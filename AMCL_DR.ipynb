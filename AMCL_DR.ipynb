{
  "nbformat": 4,
  "nbformat_minor": 0,
  "metadata": {
    "colab": {
      "name": "AMCL_DR.ipynb",
      "provenance": [],
      "authorship_tag": "ABX9TyNPr/b1cgybT5+lhOjOP/rI",
      "include_colab_link": true
    },
    "kernelspec": {
      "name": "python3",
      "display_name": "Python 3"
    },
    "language_info": {
      "name": "python"
    }
  },
  "cells": [
    {
      "cell_type": "markdown",
      "metadata": {
        "id": "view-in-github",
        "colab_type": "text"
      },
      "source": [
        "<a href=\"https://colab.research.google.com/github/abaskon/Particle_Filter_Localisation/blob/main/AMCL_DR.ipynb\" target=\"_parent\"><img src=\"https://colab.research.google.com/assets/colab-badge.svg\" alt=\"Open In Colab\"/></a>"
      ]
    },
    {
      "cell_type": "code",
      "metadata": {
        "id": "Pjka-KagajAd"
      },
      "source": [
        "import numpy as np\n",
        "import matplotlib as mpl\n",
        "import matplotlib.pyplot as plt\n",
        "from datetime import datetime\n",
        "import plotly.express as px\n",
        "import pandas as pd\n",
        "import seaborn as sns\n",
        "\n",
        "mpl.rcParams['figure.figsize'] = (15,8)\n",
        "mpl.rcParams['axes.grid'] =True\n",
        "  "
      ],
      "execution_count": 21,
      "outputs": []
    },
    {
      "cell_type": "code",
      "metadata": {
        "colab": {
          "base_uri": "https://localhost:8080/"
        },
        "id": "UI3FNAPoePwV",
        "outputId": "faf3ec25-f969-4ad6-df29-c9b538a84fc3"
      },
      "source": [
        "!git clone https://github.com/abaskon/Particle_Filter_Localisation.git"
      ],
      "execution_count": 2,
      "outputs": [
        {
          "output_type": "stream",
          "name": "stdout",
          "text": [
            "fatal: destination path 'Particle_Filter_Localisation' already exists and is not an empty directory.\n"
          ]
        }
      ]
    },
    {
      "cell_type": "code",
      "metadata": {
        "id": "yNOQn5eweYaI"
      },
      "source": [
        "amcl = pd.read_csv('https://raw.githubusercontent.com/abaskon/Particle_Filter_Localisation/main/CSV/amcl_pose.csv')\n",
        "odom_f =  pd.read_csv('https://raw.githubusercontent.com/abaskon/Particle_Filter_Localisation/main/CSV/odometry-filtered.csv') \n",
        "odom =  pd.read_csv('https://raw.githubusercontent.com/abaskon/Particle_Filter_Localisation/main/CSV/odom.csv')\n",
        "tf =  pd.read_csv('https://raw.githubusercontent.com/abaskon/Particle_Filter_Localisation/main/CSV/tf.csv')\n",
        "clock =  pd.read_csv('https://raw.githubusercontent.com/abaskon/Particle_Filter_Localisation/main/CSV/clock.csv')"
      ],
      "execution_count": 3,
      "outputs": []
    },
    {
      "cell_type": "code",
      "metadata": {
        "colab": {
          "base_uri": "https://localhost:8080/",
          "height": 394
        },
        "id": "uwfxmyzZfGZp",
        "outputId": "978ad148-c7c2-4372-c86d-9d2e21c96a8c"
      },
      "source": [
        "amcl.head()"
      ],
      "execution_count": 4,
      "outputs": [
        {
          "output_type": "execute_result",
          "data": {
            "text/html": [
              "<div>\n",
              "<style scoped>\n",
              "    .dataframe tbody tr th:only-of-type {\n",
              "        vertical-align: middle;\n",
              "    }\n",
              "\n",
              "    .dataframe tbody tr th {\n",
              "        vertical-align: top;\n",
              "    }\n",
              "\n",
              "    .dataframe thead th {\n",
              "        text-align: right;\n",
              "    }\n",
              "</style>\n",
              "<table border=\"1\" class=\"dataframe\">\n",
              "  <thead>\n",
              "    <tr style=\"text-align: right;\">\n",
              "      <th></th>\n",
              "      <th>Time</th>\n",
              "      <th>header.seq</th>\n",
              "      <th>header.stamp.secs</th>\n",
              "      <th>header.stamp.nsecs</th>\n",
              "      <th>header.frame_id</th>\n",
              "      <th>pose.pose.position.x</th>\n",
              "      <th>pose.pose.position.y</th>\n",
              "      <th>pose.pose.position.z</th>\n",
              "      <th>pose.pose.orientation.x</th>\n",
              "      <th>pose.pose.orientation.y</th>\n",
              "      <th>pose.pose.orientation.z</th>\n",
              "      <th>pose.pose.orientation.w</th>\n",
              "      <th>pose.covariance</th>\n",
              "    </tr>\n",
              "  </thead>\n",
              "  <tbody>\n",
              "    <tr>\n",
              "      <th>0</th>\n",
              "      <td>34.674</td>\n",
              "      <td>0</td>\n",
              "      <td>10</td>\n",
              "      <td>397000000</td>\n",
              "      <td>map</td>\n",
              "      <td>0.012766</td>\n",
              "      <td>-0.001858</td>\n",
              "      <td>0.0</td>\n",
              "      <td>0.0</td>\n",
              "      <td>0.0</td>\n",
              "      <td>0.000086</td>\n",
              "      <td>1.000000</td>\n",
              "      <td>(0.2470653041573616, 0.0019165315976033225, 0....</td>\n",
              "    </tr>\n",
              "    <tr>\n",
              "      <th>1</th>\n",
              "      <td>56.439</td>\n",
              "      <td>1</td>\n",
              "      <td>56</td>\n",
              "      <td>398000000</td>\n",
              "      <td>map</td>\n",
              "      <td>0.248594</td>\n",
              "      <td>0.094097</td>\n",
              "      <td>0.0</td>\n",
              "      <td>0.0</td>\n",
              "      <td>0.0</td>\n",
              "      <td>0.178186</td>\n",
              "      <td>0.983997</td>\n",
              "      <td>(0.18950598300327587, -0.005191661325132511, 0...</td>\n",
              "    </tr>\n",
              "    <tr>\n",
              "      <th>2</th>\n",
              "      <td>61.427</td>\n",
              "      <td>2</td>\n",
              "      <td>61</td>\n",
              "      <td>398000000</td>\n",
              "      <td>map</td>\n",
              "      <td>0.610166</td>\n",
              "      <td>0.239486</td>\n",
              "      <td>0.0</td>\n",
              "      <td>0.0</td>\n",
              "      <td>0.0</td>\n",
              "      <td>0.177205</td>\n",
              "      <td>0.984174</td>\n",
              "      <td>(0.15812233142807763, -0.0028520728322717626, ...</td>\n",
              "    </tr>\n",
              "    <tr>\n",
              "      <th>3</th>\n",
              "      <td>65.827</td>\n",
              "      <td>3</td>\n",
              "      <td>65</td>\n",
              "      <td>798000000</td>\n",
              "      <td>map</td>\n",
              "      <td>1.010377</td>\n",
              "      <td>0.289293</td>\n",
              "      <td>0.0</td>\n",
              "      <td>0.0</td>\n",
              "      <td>0.0</td>\n",
              "      <td>0.020810</td>\n",
              "      <td>0.999783</td>\n",
              "      <td>(0.12805022456698278, 0.0017301901724648405, 0...</td>\n",
              "    </tr>\n",
              "    <tr>\n",
              "      <th>4</th>\n",
              "      <td>70.021</td>\n",
              "      <td>4</td>\n",
              "      <td>69</td>\n",
              "      <td>998000000</td>\n",
              "      <td>map</td>\n",
              "      <td>1.420104</td>\n",
              "      <td>0.292532</td>\n",
              "      <td>0.0</td>\n",
              "      <td>0.0</td>\n",
              "      <td>0.0</td>\n",
              "      <td>0.022802</td>\n",
              "      <td>0.999740</td>\n",
              "      <td>(0.10035431183717636, 0.0005044863828376212, 0...</td>\n",
              "    </tr>\n",
              "  </tbody>\n",
              "</table>\n",
              "</div>"
            ],
            "text/plain": [
              "     Time  ...                                    pose.covariance\n",
              "0  34.674  ...  (0.2470653041573616, 0.0019165315976033225, 0....\n",
              "1  56.439  ...  (0.18950598300327587, -0.005191661325132511, 0...\n",
              "2  61.427  ...  (0.15812233142807763, -0.0028520728322717626, ...\n",
              "3  65.827  ...  (0.12805022456698278, 0.0017301901724648405, 0...\n",
              "4  70.021  ...  (0.10035431183717636, 0.0005044863828376212, 0...\n",
              "\n",
              "[5 rows x 13 columns]"
            ]
          },
          "metadata": {},
          "execution_count": 4
        }
      ]
    },
    {
      "cell_type": "code",
      "metadata": {
        "colab": {
          "base_uri": "https://localhost:8080/"
        },
        "id": "ZuPWBizzx1Jw",
        "outputId": "39f96c92-66dd-4715-a260-12f5185bc3c4"
      },
      "source": [
        "pip install squaternion "
      ],
      "execution_count": 5,
      "outputs": [
        {
          "output_type": "stream",
          "name": "stdout",
          "text": [
            "Requirement already satisfied: squaternion in /usr/local/lib/python3.7/dist-packages (0.3.2)\n",
            "Requirement already satisfied: importlib-metadata in /usr/local/lib/python3.7/dist-packages (from squaternion) (4.8.2)\n",
            "Requirement already satisfied: typing-extensions>=3.6.4 in /usr/local/lib/python3.7/dist-packages (from importlib-metadata->squaternion) (3.10.0.2)\n",
            "Requirement already satisfied: zipp>=0.5 in /usr/local/lib/python3.7/dist-packages (from importlib-metadata->squaternion) (3.6.0)\n"
          ]
        }
      ]
    },
    {
      "cell_type": "code",
      "metadata": {
        "id": "BD_t9waozimW"
      },
      "source": [
        "from squaternion import Quaternion"
      ],
      "execution_count": 6,
      "outputs": []
    },
    {
      "cell_type": "code",
      "metadata": {
        "id": "2EPRAKi5xJaz"
      },
      "source": [
        "#type(pose) = geometry_msgs.msg.Pose\n",
        "amcl['theta'] = 0\n",
        "odom_f['theta'] = 0\n",
        "\n",
        "def find_theta(data):\n",
        "  for i in range (0,len(data)):\n",
        "    quaternion = Quaternion(data[\"pose.pose.orientation.x\"][i],data[\"pose.pose.orientation.y\"][i],data[\"pose.pose.orientation.z\"][i],data[\"pose.pose.orientation.w\"][i])\n",
        "    data['theta'][i] = data['theta'][i]+ quaternion.to_euler(degrees=True)[0]\n",
        "  "
      ],
      "execution_count": 13,
      "outputs": []
    },
    {
      "cell_type": "code",
      "metadata": {
        "colab": {
          "base_uri": "https://localhost:8080/"
        },
        "id": "tZjm8Hvs8-kS",
        "outputId": "33a56949-b43b-419f-9af7-705de0d0c66b"
      },
      "source": [
        "find_theta(amcl)\n",
        "find_theta(odom_f)"
      ],
      "execution_count": 15,
      "outputs": [
        {
          "output_type": "stream",
          "name": "stderr",
          "text": [
            "/usr/local/lib/python3.7/dist-packages/ipykernel_launcher.py:8: SettingWithCopyWarning:\n",
            "\n",
            "\n",
            "A value is trying to be set on a copy of a slice from a DataFrame\n",
            "\n",
            "See the caveats in the documentation: https://pandas.pydata.org/pandas-docs/stable/user_guide/indexing.html#returning-a-view-versus-a-copy\n",
            "\n"
          ]
        }
      ]
    },
    {
      "cell_type": "code",
      "metadata": {
        "id": "QftRQnP2uMLI"
      },
      "source": [
        "amcl_position = amcl.pivot(\"pose.pose.position.x\",\"pose.pose.position.y\")"
      ],
      "execution_count": 8,
      "outputs": []
    },
    {
      "cell_type": "code",
      "metadata": {
        "id": "u2h_uflNw5Z0"
      },
      "source": [
        "import pandas as pd\n",
        "from pandas_datareader import data\n",
        "import seaborn as sns\n",
        "import io\n",
        "sns.set(style=\"darkgrid\")"
      ],
      "execution_count": 9,
      "outputs": []
    },
    {
      "cell_type": "code",
      "metadata": {
        "colab": {
          "base_uri": "https://localhost:8080/",
          "height": 204
        },
        "id": "kPnl6MuM30Fx",
        "outputId": "599e24d5-6911-44f3-d338-bb248dbcde56"
      },
      "source": [
        "tf.head()"
      ],
      "execution_count": 10,
      "outputs": [
        {
          "output_type": "execute_result",
          "data": {
            "text/html": [
              "<div>\n",
              "<style scoped>\n",
              "    .dataframe tbody tr th:only-of-type {\n",
              "        vertical-align: middle;\n",
              "    }\n",
              "\n",
              "    .dataframe tbody tr th {\n",
              "        vertical-align: top;\n",
              "    }\n",
              "\n",
              "    .dataframe thead th {\n",
              "        text-align: right;\n",
              "    }\n",
              "</style>\n",
              "<table border=\"1\" class=\"dataframe\">\n",
              "  <thead>\n",
              "    <tr style=\"text-align: right;\">\n",
              "      <th></th>\n",
              "      <th>Time</th>\n",
              "      <th>transforms</th>\n",
              "    </tr>\n",
              "  </thead>\n",
              "  <tbody>\n",
              "    <tr>\n",
              "      <th>0</th>\n",
              "      <td>34.674</td>\n",
              "      <td>[header: \\n  seq: 0\\n  stamp: \\n    secs: 34\\n...</td>\n",
              "    </tr>\n",
              "    <tr>\n",
              "      <th>1</th>\n",
              "      <td>34.695</td>\n",
              "      <td>[header: \\n  seq: 0\\n  stamp: \\n    secs: 34\\n...</td>\n",
              "    </tr>\n",
              "    <tr>\n",
              "      <th>2</th>\n",
              "      <td>34.696</td>\n",
              "      <td>[header: \\n  seq: 0\\n  stamp: \\n    secs: 34\\n...</td>\n",
              "    </tr>\n",
              "    <tr>\n",
              "      <th>3</th>\n",
              "      <td>34.700</td>\n",
              "      <td>[header: \\n  seq: 0\\n  stamp: \\n    secs: 34\\n...</td>\n",
              "    </tr>\n",
              "    <tr>\n",
              "      <th>4</th>\n",
              "      <td>34.707</td>\n",
              "      <td>[header: \\n  seq: 0\\n  stamp: \\n    secs: 34\\n...</td>\n",
              "    </tr>\n",
              "  </tbody>\n",
              "</table>\n",
              "</div>"
            ],
            "text/plain": [
              "     Time                                         transforms\n",
              "0  34.674  [header: \\n  seq: 0\\n  stamp: \\n    secs: 34\\n...\n",
              "1  34.695  [header: \\n  seq: 0\\n  stamp: \\n    secs: 34\\n...\n",
              "2  34.696  [header: \\n  seq: 0\\n  stamp: \\n    secs: 34\\n...\n",
              "3  34.700  [header: \\n  seq: 0\\n  stamp: \\n    secs: 34\\n...\n",
              "4  34.707  [header: \\n  seq: 0\\n  stamp: \\n    secs: 34\\n..."
            ]
          },
          "metadata": {},
          "execution_count": 10
        }
      ]
    },
    {
      "cell_type": "code",
      "metadata": {
        "colab": {
          "base_uri": "https://localhost:8080/",
          "height": 700
        },
        "id": "pVNJ9d2-30Lw",
        "outputId": "5f27c2de-1239-4a2d-cd52-a2888451e2bc"
      },
      "source": [
        "plt.style.use('ggplot')\n",
        "\n",
        "fig, ax = plt.subplots(3)\n",
        "fig.suptitle('AMCL vs DR data')\n",
        "# Plot 0\n",
        "ax[0].plot(odom_f.Time, odom_f[\"pose.pose.position.x\"], color=\"green\")\n",
        "ax[0].plot(amcl.Time, amcl[\"pose.pose.position.x\"], color=\"red\")\n",
        "ax[0].set(xlabel='Time', ylabel='x Co Ordinate')\n",
        "ax[0].legend([\"DR data\", \"amcl data\"], loc =\"upper right\")\n",
        "\n",
        "# Plot 1\n",
        "ax[1].plot(odom_f.Time, odom_f[\"pose.pose.position.y\"], color=\"green\")\n",
        "ax[1].plot(amcl.Time, amcl[\"pose.pose.position.y\"], color=\"red\")\n",
        "ax[1].set(xlabel='Time', ylabel='y Co Ordinate')\n",
        "\n",
        "# Plot 2\n",
        "ax[2].plot(odom_f.Time, odom_f[\"theta\"], color=\"green\")\n",
        "ax[2].plot(amcl.Time, amcl[\"theta\"], color=\"red\")\n",
        "ax[2].set(xlabel='Time', ylabel='theta (in degrees)')\n",
        "\n",
        "\n",
        "# show legend\n",
        "plt.legend()\n",
        "plt.rcParams['figure.figsize'] = [10, 10]\n",
        "# show graph\n",
        "plt.show()"
      ],
      "execution_count": 27,
      "outputs": [
        {
          "output_type": "stream",
          "name": "stderr",
          "text": [
            "No handles with labels found to put in legend.\n"
          ]
        },
        {
          "output_type": "display_data",
          "data": {
            "image/png": "[encoded data removed]",
            "text/plain": [
              "<Figure size 720x720 with 3 Axes>"
            ]
          },
          "metadata": {}
        }
      ]
    },
    {
      "cell_type": "code",
      "metadata": {
        "colab": {
          "base_uri": "https://localhost:8080/"
        },
        "id": "mF-3ZmwfAxh8",
        "outputId": "cdc2fc39-5554-47cd-b883-d61ea9d9807c"
      },
      "source": [
        "print(tf.transforms[0])\n",
        "count = 0\n",
        "# Strips the newline character\n",
        "buf = io.StringIO(tf.transforms[0])\n",
        "Lines = buf.readlines()\n",
        "for line in Lines:\n",
        "    count += 1\n",
        "    print(\"Line{}: {}\".format(count, line.strip()))"
      ],
      "execution_count": 12,
      "outputs": [
        {
          "output_type": "stream",
          "name": "stdout",
          "text": [
            "[header: \n",
            "  seq: 0\n",
            "  stamp: \n",
            "    secs: 34\n",
            "    nsecs: 673000000\n",
            "  frame_id: \"odom\"\n",
            "child_frame_id: \"base_link\"\n",
            "transform: \n",
            "  translation: \n",
            "    x: -2.623981862493764e-06\n",
            "    y: 1.5445277362241195e-05\n",
            "    z: 0.0\n",
            "  rotation: \n",
            "    x: 0.0\n",
            "    y: 0.0\n",
            "    z: 0.00012176224696851707\n",
            "    w: 0.9999999925869776]\n",
            "Line1: [header:\n",
            "Line2: seq: 0\n",
            "Line3: stamp:\n",
            "Line4: secs: 34\n",
            "Line5: nsecs: 673000000\n",
            "Line6: frame_id: \"odom\"\n",
            "Line7: child_frame_id: \"base_link\"\n",
            "Line8: transform:\n",
            "Line9: translation:\n",
            "Line10: x: -2.623981862493764e-06\n",
            "Line11: y: 1.5445277362241195e-05\n",
            "Line12: z: 0.0\n",
            "Line13: rotation:\n",
            "Line14: x: 0.0\n",
            "Line15: y: 0.0\n",
            "Line16: z: 0.00012176224696851707\n",
            "Line17: w: 0.9999999925869776]\n"
          ]
        }
      ]
    },
    {
      "cell_type": "code",
      "metadata": {
        "id": "LTnd-3cDxEFh"
      },
      "source": [
        ""
      ],
      "execution_count": 12,
      "outputs": []
    }
  ]
}